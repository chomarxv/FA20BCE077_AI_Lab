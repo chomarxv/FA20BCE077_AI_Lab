{
  "nbformat": 4,
  "nbformat_minor": 0,
  "metadata": {
    "colab": {
      "provenance": []
    },
    "kernelspec": {
      "name": "python3",
      "display_name": "Python 3"
    },
    "language_info": {
      "name": "python"
    }
  },
  "cells": [
    {
      "cell_type": "code",
      "execution_count": 39,
      "metadata": {
        "colab": {
          "base_uri": "https://localhost:8080/"
        },
        "id": "vWrUhNzsr81m",
        "outputId": "85281f38-7c91-4067-95f0-55c2c188ddf8"
      },
      "outputs": [
        {
          "output_type": "stream",
          "name": "stdout",
          "text": [
            "   pregnant  glucose  bp  skin  insulin   bmi  pedigree  age  label\n",
            "0         6      148  72    35        0  33.6     0.627   50      1\n",
            "1         1       85  66    29        0  26.6     0.351   31      0\n",
            "2         8      183  64     0        0  23.3     0.672   32      1\n",
            "3         1       89  66    23       94  28.1     0.167   21      0\n",
            "4         0      137  40    35      168  43.1     2.288   33      1\n",
            "Accuracy: 0.6363636363636364\n",
            "Accuracy: 0.7705627705627706\n"
          ]
        }
      ],
      "source": [
        "import pandas as pd\n",
        "from sklearn. tree import DecisionTreeClassifier\n",
        "from sklearn.model_selection import train_test_split\n",
        "from sklearn import metrics\n",
        "\n",
        "col_names = ['pregnant', 'glucose', 'bp', 'skin', 'insulin', 'bmi', 'pedigree', 'age', 'label']\n",
        "# load dataset\n",
        "pima = pd.read_csv(\"diabetes.csv\", header=None, names=col_names)\n",
        "pima_df= pima.head()\n",
        "print (pima_df)\n",
        "\n",
        "#Feature Selection\n",
        "feature_cols = ['pregnant', 'glucose', 'bp', 'skin', 'insulin', 'bmi', 'pedigree']\n",
        "X = pima[feature_cols] # Features\n",
        "y = pima.label # Target variable\n",
        "\n",
        "#splitting data\n",
        "X_train, X_test, y_train, y_test = train_test_split(X, y, test_size=0.3, random_state=1)\n",
        "\n",
        "#building dt\n",
        "clf=DecisionTreeClassifier()\n",
        "clf=clf.fit(X_train,y_train)\n",
        "y_pred=clf.predict(X_test)\n",
        "\n",
        "#evaluating\n",
        "print(\"Accuracy:\",metrics.accuracy_score(y_test,y_pred))\n",
        "\n",
        "#Visualizing Decision Trees\n",
        "from sklearn. tree import export_graphviz\n",
        "import graphviz\n",
        "dot_data = export_graphviz(clf, out_file=None,\n",
        "feature_names=X_train.columns,\n",
        "class_names=[str(x) for x in clf.classes_],\n",
        "             filled=True, rounded=True, special_characters=True)\n",
        "graph = graphviz.Source (dot_data)\n",
        "graph.render (\"decision_tree\")\n",
        "graph.view(\"decision tree\")\n",
        "\n",
        "#Optimizing Decision Tree Performance\n",
        "clf = DecisionTreeClassifier(criterion=\"entropy\",max_depth=3)\n",
        "c1f = clf.fit(X_train,y_train)\n",
        "y_pred = clf.predict(X_test)\n",
        "print(\"Accuracy:\",metrics.accuracy_score(y_test,y_pred))\n"
      ]
    }
  ]
}
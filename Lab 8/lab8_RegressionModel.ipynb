{
  "nbformat": 4,
  "nbformat_minor": 0,
  "metadata": {
    "colab": {
      "provenance": []
    },
    "kernelspec": {
      "name": "python3",
      "display_name": "Python 3"
    },
    "language_info": {
      "name": "python"
    }
  },
  "cells": [
    {
      "cell_type": "code",
      "execution_count": 2,
      "metadata": {
        "colab": {
          "base_uri": "https://localhost:8080/",
          "height": 591
        },
        "id": "_UXzIfWUqsfL",
        "outputId": "5587c9a8-3575-4ef2-a523-644354cb127d"
      },
      "outputs": [
        {
          "output_type": "stream",
          "name": "stdout",
          "text": [
            "Feature ranking: \n",
            "1. feature (Column index) 0 (0.547426)\n",
            "2. feature (Column index) 2 (0.163201)\n",
            "3. feature (Column index) 1 (0.121114)\n",
            "4. feature (Column index) 3 (0.099430)\n",
            "5. feature (Column index) 4 (0.068829)\n",
            "[0 2 1]\n",
            "Regression TrainSet: RMSE 0.003698847883733275\n",
            "Regression Testset: RMSE 0.005388812554401423\n"
          ]
        },
        {
          "output_type": "display_data",
          "data": {
            "text/plain": [
              "<Figure size 640x480 with 1 Axes>"
            ],
            "image/png": "[encoded data removed]"
          },
          "metadata": {}
        }
      ],
      "source": [
        "# Importing libraries needed\n",
        "# Note that keras is generally used for deep learning as well from keras.models import Sequential\n",
        "from keras.layers import Dense, Dropout\n",
        "from sklearn.metrics import classification_report, confusion_matrix\n",
        "from sklearn.model_selection import train_test_split\n",
        "from sklearn.metrics import mean_squared_error\n",
        "import numpy as np\n",
        "from sklearn import linear_model\n",
        "from sklearn import preprocessing\n",
        "from sklearn import tree\n",
        "from sklearn.ensemble import RandomForestRegressor, GradientBoostingRegressor\n",
        "import pandas as pd\n",
        "import csv\n",
        "import matplotlib.pyplot as plt\n",
        "# Read Data and fix seed\n",
        "# fix random seed for reproducibility\n",
        "np.random.seed(7)\n",
        "df = pd.read_csv(\"Alumni Giving Regression (Edited).csv\", delimiter=\",\")\n",
        "dd_df_1=df.head()\n",
        "import seaborn as sns\n",
        "import pandas as pd\n",
        "boxplot = pd.DataFrame(df).boxplot()\n"
      ]
    },
    {
      "cell_type": "code",
      "source": [
        "# %%\n",
        "quantile99 = df.iloc[:,0].quantile(0.99)\n",
        "df1=df[df.iloc[:,0] < quantile99]\n",
        "df1.boxplot()\n"
      ],
      "metadata": {
        "id": "UmYzs0JTBNz6"
      },
      "execution_count": null,
      "outputs": []
    },
    {
      "cell_type": "code",
      "source": [
        "\n",
        "# %%\n",
        "quantile1 =  df.iloc[:,0].quantile(0.01)\n",
        "quantile99 = df.iloc[:,0].quantile(0.99)\n",
        "df2 = df[(df.iloc[:,0] > quantile1) & (df.iloc[:,0] <quantile99)]\n",
        "df2.boxplot()\n"
      ],
      "metadata": {
        "id": "ONmNuRSuBUCE"
      },
      "execution_count": null,
      "outputs": []
    },
    {
      "cell_type": "code",
      "source": [
        "\n",
        "# %%\n",
        "df.dropna()\n"
      ],
      "metadata": {
        "id": "COu1HmTyBZDW"
      },
      "execution_count": null,
      "outputs": []
    },
    {
      "cell_type": "code",
      "source": [
        "\n",
        "# Assuming you have already loaded the data into the 'df' DataFrame\n",
        "\n",
        "# Dropping missing values\n",
        "df = df.dropna()\n",
        "\n",
        "# Feature Ranking\n",
        "X = df.iloc[:, 1:]\n",
        "y = df.iloc[:, 0]\n",
        "\n",
        "model3 = RandomForestRegressor()\n",
        "model3.fit(X, y)\n",
        "\n",
        "importances = model3.feature_importances_\n",
        "std = np.std([tree.feature_importances_ for tree in model3.estimators_], axis=0)\n",
        "indices = np.argsort(importances)[::-1]\n",
        "\n",
        "# Print the feature ranking\n",
        "print(\"Feature ranking: \")\n",
        "for f in range(X.shape[1]):\n",
        "    print(\"%d. feature (Column index) %s (%f)\" % (f + 1, indices[f], importances[indices[f]]))\n"
      ],
      "metadata": {
        "id": "mE6ivjzaBgRS"
      },
      "execution_count": null,
      "outputs": []
    },
    {
      "cell_type": "code",
      "source": [
        "\n",
        "# %%\n",
        "indices_top3= indices[:3]\n",
        "print(indices_top3)\n",
        "dataset=df\n",
        "df = pd.DataFrame(df)\n",
        "Y_position = 5\n",
        "TOP_N_FEATURE = 3\n",
        "X = dataset.iloc[:, indices_top3]\n",
        "Y = dataset.iloc[:,Y_position]\n",
        "# create model\n",
        "X_train, X_test, y_train, y_test = train_test_split(X, Y, test_size=0.20, random_state=2020)\n",
        "#Model 1 linear regression\n",
        "model1 = linear_model.LinearRegression()\n",
        "model1.fit(X_train, y_train)\n",
        "y_pred_train1 = model1.predict(X_train)\n",
        "#print(\"Regression\")\n",
        "#print(\"=======\")\n",
        "\n",
        "RMSE_train1 = mean_squared_error(y_train, y_pred_train1)\n",
        "print(\"Regression TrainSet: RMSE {}\".format(RMSE_train1))\n",
        "#print(\"======\")\n",
        "y_pred1 = model1.predict(X_test)\n",
        "RMSE_test1 = mean_squared_error (y_test,y_pred1)\n",
        "print(\"Regression Testset: RMSE {}\".format(RMSE_test1))\n",
        "#print(\"====\")"
      ],
      "metadata": {
        "id": "DyBg2cxJBryX"
      },
      "execution_count": null,
      "outputs": []
    }
  ]
}